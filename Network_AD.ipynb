{
 "cells": [
  {
   "cell_type": "code",
   "execution_count": 1,
   "id": "deb88d6f",
   "metadata": {},
   "outputs": [
    {
     "name": "stdout",
     "output_type": "stream",
     "text": [
      "Epoch 1/10\n",
      "1477/1477 [==============================] - 9s 5ms/step - loss: 0.7968 - val_loss: 0.6796\n",
      "Epoch 2/10\n",
      "1477/1477 [==============================] - 7s 5ms/step - loss: 0.7651 - val_loss: 0.6761\n",
      "Epoch 3/10\n",
      "1477/1477 [==============================] - 8s 5ms/step - loss: 0.7621 - val_loss: 0.6740\n",
      "Epoch 4/10\n",
      "1477/1477 [==============================] - 7s 5ms/step - loss: 0.7609 - val_loss: 0.6732\n",
      "Epoch 5/10\n",
      "1477/1477 [==============================] - 8s 5ms/step - loss: 0.7603 - val_loss: 0.6727\n",
      "Epoch 6/10\n",
      "1477/1477 [==============================] - 6s 4ms/step - loss: 0.7601 - val_loss: 0.6727\n",
      "Epoch 7/10\n",
      "1477/1477 [==============================] - 8s 5ms/step - loss: 0.7598 - val_loss: 0.6725\n",
      "Epoch 8/10\n",
      "1477/1477 [==============================] - 7s 5ms/step - loss: 0.7596 - val_loss: 0.6720\n",
      "Epoch 9/10\n",
      "1477/1477 [==============================] - 7s 5ms/step - loss: 0.7577 - val_loss: 0.6656\n",
      "Epoch 10/10\n",
      "1477/1477 [==============================] - 7s 5ms/step - loss: 0.7501 - val_loss: 0.6598\n",
      "2953/2953 [==============================] - 9s 3ms/step\n",
      "985/985 [==============================] - 3s 3ms/step\n",
      "KNN Accuracy: 0.9883469867276307\n"
     ]
    }
   ],
   "source": [
    "import pandas as pd\n",
    "from sklearn.model_selection import train_test_split\n",
    "from sklearn.preprocessing import StandardScaler, LabelEncoder\n",
    "from sklearn.metrics import accuracy_score, classification_report\n",
    "from sklearn.neighbors import KNeighborsClassifier\n",
    "from sklearn.svm import SVC\n",
    "from keras.models import Model, Sequential\n",
    "from keras.layers import Input, Dense, Conv1D, Flatten, Dropout\n",
    "from keras.utils import to_categorical\n",
    "\n",
    "\n",
    "url = \"https://raw.githubusercontent.com/defcom17/NSL_KDD/master/KDDTrain%2B.csv\"\n",
    "dataset = pd.read_csv(url, sep=\",\", names=[\"duration\", \"protocoltype\", \"service\", \"flag\", \"srcbytes\", \"dstbytes\", \"land\", \"wrongfragment\", \"urgent\", \"hot\", \"numfailedlogins\", \"loggedin\", \"numcompromised\", \"rootshell\", \"suattempted\", \"numroot\", \"numfilecreations\", \"numshells\", \"numaccessfiles\", \"numoutboundcmds\", \"ishostlogin\", \"isguestlogin\", \"count\", \"srvcount\", \"serrorrate\", \"srvserrorrate\", \"rerrorrate\", \"srvrerrorrate\", \"samesrvrate\", \"diffsrvrate\", \"srvdiffhostrate\", \"dsthostcount\", \"dsthostsrvcount\", \"dsthostsamesrvrate\", \"dsthostdiffsrvrate\", \"dsthostsamesrcportrate\", \"dsthostsrvdiffhostrate\", \"dsthostserrorrate\", \"dsthostsrvserrorrate\", \"dsthostrerrorrate\", \"dsthostsrvrerrorrate\", \"attack\", \"level\"])\n",
    "\n",
    "dataset.drop('level', axis=1, inplace=True)\n",
    "dataset['attack'] = (dataset['attack'] != \"normal\") * 1\n",
    "\n",
    "le = LabelEncoder()\n",
    "dataset['protocoltype'] = le.fit_transform(dataset['protocoltype'])\n",
    "dataset['service'] = le.fit_transform(dataset['service'])\n",
    "dataset['flag'] = le.fit_transform(dataset['flag'])\n",
    "\n",
    "x = dataset.drop(['attack'], axis=1)\n",
    "y = dataset['attack'].copy()\n",
    "\n",
    "x_train, x_test, y_train, y_test = train_test_split(x, y, test_size=0.25, random_state=42)\n",
    "\n",
    "# Standardize numerical features using RobustScaler\n",
    "rScaler = StandardScaler()\n",
    "x_train = rScaler.fit_transform(x_train)\n",
    "x_test = rScaler.transform(x_test)\n",
    "\n",
    "# Define the function to build the autoencoder\n",
    "def build_autoencoder(input_dim):\n",
    "    autoencoder = Sequential()\n",
    "    autoencoder.add(Dense(32, input_dim=input_dim, activation='relu'))\n",
    "    autoencoder.add(Dense(16, activation='relu'))\n",
    "    autoencoder.add(Dense(8, activation='relu'))\n",
    "    autoencoder.add(Dense(16, activation='relu'))\n",
    "    autoencoder.add(Dense(32, activation='relu'))\n",
    "    autoencoder.add(Dense(input_dim, activation='sigmoid'))\n",
    "    return autoencoder\n",
    "\n",
    "# Prepare data for the autoencoder\n",
    "x_autoencoder_train, x_autoencoder_test, _, _ = train_test_split(x, y, test_size=0.25, random_state=42)\n",
    "scaler_autoencoder = StandardScaler()\n",
    "x_autoencoder_train_scaled = scaler_autoencoder.fit_transform(x_autoencoder_train)\n",
    "x_autoencoder_test_scaled = scaler_autoencoder.transform(x_autoencoder_test)\n",
    "\n",
    "# Build and train the autoencoder\n",
    "autoencoder = build_autoencoder(x_autoencoder_train_scaled.shape[1])\n",
    "autoencoder.compile(optimizer='adam', loss='mse')\n",
    "autoencoder.fit(x_autoencoder_train_scaled, x_autoencoder_train_scaled, epochs=10, batch_size=64, shuffle=True, validation_data=(x_autoencoder_test_scaled, x_autoencoder_test_scaled))\n",
    "\n",
    "# Encode the data using the trained autoencoder\n",
    "encoded_train = autoencoder.predict(x_train)\n",
    "encoded_test = autoencoder.predict(x_test)\n",
    "\n",
    "# Build and train the KNN classifier using the encoded data\n",
    "k1 = KNeighborsClassifier(n_neighbors=5)\n",
    "k1.fit(encoded_train, y_train)\n",
    "\n",
    "k1_predictions = k1.predict(encoded_test)\n",
    "knn_accuracy = accuracy_score(k1_predictions, y_test)\n",
    "print(\"KNN Accuracy:\", knn_accuracy)\n",
    "\n"
   ]
  },
  {
   "cell_type": "markdown",
   "id": "f3e099e4",
   "metadata": {},
   "source": [
    "# CNN"
   ]
  },
  {
   "cell_type": "code",
   "execution_count": 7,
   "id": "2be56ed1",
   "metadata": {},
   "outputs": [
    {
     "name": "stdout",
     "output_type": "stream",
     "text": [
      "Epoch 1/5\n",
      "1477/1477 [==============================] - 13s 8ms/step - loss: 0.1463 - accuracy: 0.9449 - val_loss: 0.1138 - val_accuracy: 0.9542\n",
      "Epoch 2/5\n",
      "1477/1477 [==============================] - 13s 9ms/step - loss: 0.1191 - accuracy: 0.9565 - val_loss: 0.1044 - val_accuracy: 0.9612\n",
      "Epoch 3/5\n",
      "1477/1477 [==============================] - 12s 8ms/step - loss: 0.1139 - accuracy: 0.9586 - val_loss: 0.1058 - val_accuracy: 0.9599\n",
      "Epoch 4/5\n",
      "1477/1477 [==============================] - 15s 10ms/step - loss: 0.1108 - accuracy: 0.9598 - val_loss: 0.1020 - val_accuracy: 0.9619\n",
      "Epoch 5/5\n",
      "1477/1477 [==============================] - 14s 10ms/step - loss: 0.1079 - accuracy: 0.9610 - val_loss: 0.0967 - val_accuracy: 0.9644\n",
      "985/985 [==============================] - 4s 4ms/step - loss: 0.0967 - accuracy: 0.9644\n",
      "CNN Accuracy: 0.9643741846084595\n"
     ]
    }
   ],
   "source": [
    "x_train_cnn = encoded_train.reshape(encoded_train.shape[0], encoded_train.shape[1], 1)\n",
    "x_test_cnn = encoded_test.reshape(encoded_test.shape[0], encoded_test.shape[1], 1)\n",
    "\n",
    "cnn_model = Sequential()\n",
    "cnn_model.add(Conv1D(filters=32, kernel_size=3, activation='relu', input_shape=(encoded_train.shape[1], 1)))\n",
    "cnn_model.add(Flatten())\n",
    "cnn_model.add(Dense(64, activation='relu'))\n",
    "cnn_model.add(Dropout(0.5))\n",
    "cnn_model.add(Dense(1, activation='sigmoid'))\n",
    "cnn_model.compile(optimizer='adam', loss='binary_crossentropy', metrics=['accuracy'])\n",
    "cnn_model.fit(x_train_cnn, y_train, epochs=5, batch_size=64, validation_data=(x_test_cnn, y_test))\n",
    "\n",
    "\n",
    "cnn_score = cnn_model.evaluate(x_test_cnn, y_test)\n",
    "print(\"CNN Accuracy:\", cnn_score[1])\n"
   ]
  },
  {
   "cell_type": "markdown",
   "id": "f47a7b36",
   "metadata": {},
   "source": [
    "# Naive Bayes"
   ]
  },
  {
   "cell_type": "code",
   "execution_count": 20,
   "id": "4f9b25a4",
   "metadata": {},
   "outputs": [
    {
     "name": "stdout",
     "output_type": "stream",
     "text": [
      "Accuracy: 0.8842636692703372\n",
      "Classification Report:\n",
      "               precision    recall  f1-score   support\n",
      "\n",
      "           0       0.86      0.94      0.90     16774\n",
      "           1       0.92      0.83      0.87     14720\n",
      "\n",
      "    accuracy                           0.88     31494\n",
      "   macro avg       0.89      0.88      0.88     31494\n",
      "weighted avg       0.89      0.88      0.88     31494\n",
      "\n"
     ]
    }
   ],
   "source": [
    "\n",
    "naive_bayes_classifier = GaussianNB()\n",
    "\n",
    "naive_bayes_classifier.fit(encoded_train, y_train)\n",
    "\n",
    "y_pred = naive_bayes_classifier.predict(encoded_test)\n",
    "\n",
    "accuracy1 = accuracy_score(y_test, y_pred)\n",
    "print(\"Accuracy:\", accuracy1)\n",
    "\n",
    "print(\"Classification Report:\\n\", classification_report(y_test, y_pred))"
   ]
  },
  {
   "cell_type": "markdown",
   "id": "93c0fbd0",
   "metadata": {},
   "source": [
    "# Random forest"
   ]
  },
  {
   "cell_type": "code",
   "execution_count": 18,
   "id": "9e458980",
   "metadata": {},
   "outputs": [
    {
     "name": "stdout",
     "output_type": "stream",
     "text": [
      "Random Forest Accuracy: 0.9939988569251286\n",
      "Classification Report:\n",
      "               precision    recall  f1-score   support\n",
      "\n",
      "           0       0.86      0.94      0.90     16774\n",
      "           1       0.92      0.83      0.87     14720\n",
      "\n",
      "    accuracy                           0.88     31494\n",
      "   macro avg       0.89      0.88      0.88     31494\n",
      "weighted avg       0.89      0.88      0.88     31494\n",
      "\n"
     ]
    }
   ],
   "source": [
    "from sklearn.ensemble import RandomForestClassifier\n",
    "random_forest_classifier = RandomForestClassifier(n_estimators=100, random_state=42)\n",
    "\n",
    "random_forest_classifier.fit(encoded_train, y_train)\n",
    "\n",
    "y_pred1 = random_forest_classifier.predict(encoded_test)\n",
    "\n",
    "accuracy = accuracy_score(y_test, y_pred1)\n",
    "print(\"Random Forest Accuracy:\", accuracy)\n",
    "\n",
    "print(\"Classification Report:\\n\", classification_report(y_test, y_pred))"
   ]
  },
  {
   "cell_type": "code",
   "execution_count": 21,
   "id": "ee508f21",
   "metadata": {},
   "outputs": [
    {
     "name": "stdout",
     "output_type": "stream",
     "text": [
      "      Algorithme  Accuracy\n",
      "0            KNN  0.988347\n",
      "1  Random Forest  0.993999\n",
      "2            CNN  0.964374\n",
      "3    Naive Bayes  0.884264\n"
     ]
    },
    {
     "name": "stderr",
     "output_type": "stream",
     "text": [
      "C:\\Users\\DELL\\AppData\\Local\\Temp\\ipykernel_21444\\2125283383.py:6: FutureWarning: The frame.append method is deprecated and will be removed from pandas in a future version. Use pandas.concat instead.\n",
      "  results = results.append({'Algorithme': 'KNN', 'Accuracy': knn_accuracy}, ignore_index=True)\n",
      "C:\\Users\\DELL\\AppData\\Local\\Temp\\ipykernel_21444\\2125283383.py:10: FutureWarning: The frame.append method is deprecated and will be removed from pandas in a future version. Use pandas.concat instead.\n",
      "  results = results.append({'Algorithme': 'Random Forest', 'Accuracy': Random_Forest_accuracy}, ignore_index=True)\n",
      "C:\\Users\\DELL\\AppData\\Local\\Temp\\ipykernel_21444\\2125283383.py:14: FutureWarning: The frame.append method is deprecated and will be removed from pandas in a future version. Use pandas.concat instead.\n",
      "  results = results.append({'Algorithme': 'CNN', 'Accuracy': cnn_accuracy}, ignore_index=True)\n",
      "C:\\Users\\DELL\\AppData\\Local\\Temp\\ipykernel_21444\\2125283383.py:18: FutureWarning: The frame.append method is deprecated and will be removed from pandas in a future version. Use pandas.concat instead.\n",
      "  results = results.append({'Algorithme': 'Naive Bayes', 'Accuracy': naive_bayes_accuracy}, ignore_index=True)\n"
     ]
    }
   ],
   "source": [
    "results = pd.DataFrame(columns=['Algorithme', 'Accuracy'])\n",
    "\n",
    "knn_accuracy = accuracy_score(k1_predictions, y_test)\n",
    "results = results.append({'Algorithme': 'KNN', 'Accuracy': knn_accuracy}, ignore_index=True)\n",
    "\n",
    "Random_Forest_accuracy = accuracy_score(y_test, y_pred1)\n",
    "results = results.append({'Algorithme': 'Random Forest', 'Accuracy': Random_Forest_accuracy}, ignore_index=True)\n",
    "\n",
    "cnn_accuracy = cnn_score[1]\n",
    "results = results.append({'Algorithme': 'CNN', 'Accuracy': cnn_accuracy}, ignore_index=True)\n",
    "\n",
    "naive_bayes_accuracy = accuracy1\n",
    "results = results.append({'Algorithme': 'Naive Bayes', 'Accuracy': naive_bayes_accuracy}, ignore_index=True)\n",
    "\n",
    "print(results)\n"
   ]
  },
  {
   "cell_type": "code",
   "execution_count": 22,
   "id": "82c59b11",
   "metadata": {},
   "outputs": [
    {
     "data": {
      "image/png": "[encoded data removed]",
      "text/plain": [
       "<Figure size 640x480 with 1 Axes>"
      ]
     },
     "metadata": {},
     "output_type": "display_data"
    }
   ],
   "source": [
    "import matplotlib.pyplot as plt\n",
    "\n",
    "plt.bar(results['Algorithme'], results['Accuracy'])\n",
    "plt.ylabel('Accuracy')\n",
    "plt.title('Comparaison des algorithmes')\n",
    "plt.show()"
   ]
  },
  {
   "cell_type": "code",
   "execution_count": null,
   "id": "2b850b31",
   "metadata": {},
   "outputs": [],
   "source": []
  }
 ],
 "metadata": {
  "kernelspec": {
   "display_name": "Python 3 (ipykernel)",
   "language": "python",
   "name": "python3"
  },
  "language_info": {
   "codemirror_mode": {
    "name": "ipython",
    "version": 3
   },
   "file_extension": ".py",
   "mimetype": "text/x-python",
   "name": "python",
   "nbconvert_exporter": "python",
   "pygments_lexer": "ipython3",
   "version": "3.10.9"
  }
 },
 "nbformat": 4,
 "nbformat_minor": 5
}
